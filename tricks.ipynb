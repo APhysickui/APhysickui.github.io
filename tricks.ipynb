{
 "cells": [
  {
   "cell_type": "code",
   "execution_count": 2,
   "metadata": {},
   "outputs": [
    {
     "name": "stdout",
     "output_type": "stream",
     "text": [
      "Converted xj.jpg to xj.png\n"
     ]
    }
   ],
   "source": [
    "from PIL import Image\n",
    "\n",
    "def jpg_to_png(input_file, output_file):\n",
    "    # Open the JPG file\n",
    "    with Image.open(input_file) as img:\n",
    "        # Save the image as PNG\n",
    "        img.save(output_file, 'PNG')\n",
    "\n",
    "    print(f\"Converted {input_file} to {output_file}\")\n",
    "\n",
    "# Example usage:\n",
    "input_file = 'xj.jpg'  # Replace with the path to your JPG file\n",
    "output_file = 'xj.png'  # Replace with the desired path for the PNG file\n",
    "\n",
    "jpg_to_png(input_file, output_file)\n"
   ]
  },
  {
   "cell_type": "code",
   "execution_count": null,
   "metadata": {},
   "outputs": [],
   "source": []
  }
 ],
 "metadata": {
  "kernelspec": {
   "display_name": "Python 3",
   "language": "python",
   "name": "python3"
  },
  "language_info": {
   "codemirror_mode": {
    "name": "ipython",
    "version": 3
   },
   "file_extension": ".py",
   "mimetype": "text/x-python",
   "name": "python",
   "nbconvert_exporter": "python",
   "pygments_lexer": "ipython3",
   "version": "3.8.10"
  }
 },
 "nbformat": 4,
 "nbformat_minor": 2
}
