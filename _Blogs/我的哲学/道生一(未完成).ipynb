{
 "cells": [
  {
   "cell_type": "markdown",
   "id": "fcd6ac1e",
   "metadata": {},
   "source": [
    "本篇通过公理化定义探讨一切的起源,续集是\"三界\""
   ]
  },
  {
   "cell_type": "markdown",
   "id": "6eb95f48",
   "metadata": {},
   "source": [
    "### 概念奇点(姑且现在让我这么称呼它)\n",
    "\n",
    "**def:** 一个表示存在性的\"点\",或者说一个关于存在性的假设\n",
    "\n",
    "或者说\"空\"?因为空表示没有,但是没有蕴含了存在没有.其实用\"空\"称呼更准确,但是为了形象化我更愿意用\"概念奇点\"这个奇怪的名字去表述,他和物理所说的无质量无大小点也许同构但肯定不是一个东西\n",
    "\n",
    "- 性质1:这个点\n",
    "- 性质2:这个点蕴含不依赖于非点的论证和结论\n",
    "- 假设1:这个点可以被\"捕获\""
   ]
  },
  {
   "cell_type": "markdown",
   "id": "37ca91aa",
   "metadata": {},
   "source": [
    "**描述1:**\n",
    "\n",
    "当我在jupyter notebook中开启一个空的cell并看向那个不断闪烁的光标时,一个概念奇点\"诞生\"了,这个奇点上可以做出一系列推理,论证而不依赖奇点外的一切事物存在.\n",
    "\n",
    "你可能会说这个\"点\"是我意识中的存在的一个东西他依赖于我的意识存在.因此我做了(也必须要做)假设1,并补充一个形象化论证这个假设的合理性:1+1=2不依赖于任何点外存在而我的\n",
    "意识可以捕获1+1=2,因此这个点是可以被意识\"捕获\"的.\n",
    "\n",
    "至于为什么1+1=2属于奇点,这个是性质1决定的,我尚没明白为什么,以后我可能还要继续往里面放别的东西,比如时间\n",
    "\n",
    "所以本质上我的思考过程是倒着来的\n",
    "\n"
   ]
  },
  {
   "cell_type": "markdown",
   "id": "4b728da6",
   "metadata": {},
   "source": [
    "**描述2:**\n",
    "\n",
    "空的形象是一个点,但是我在cell里写的东西(刨除掉依赖点外之物的部分后)也是点的部分的展现,应该说,我写的过程做了两个过程:先是线性的展开,后翻译为语言,而他人通过读我的cell,可以\"捕获\"这个点的部分(子集)<br/>\n",
    "以下公式形象化说明\n",
    "$$\\{\\text{我在cell里写的}\\} \\backslash \\{\\text{空}\\}\\subseteq f(\\text{空})$$\n",
    "$f$ 既不单又不满,他是语言的特征函数,越接近一一映射,就意味着语言越能描述和定位\"空\",或者说越近本质."
   ]
  },
  {
   "cell_type": "markdown",
   "id": "3edee2cc",
   "metadata": {},
   "source": [
    "### 世界\n",
    "\n",
    "**def:** 没有外部性的实体\n",
    "\n",
    "性质1:"
   ]
  },
  {
   "cell_type": "code",
   "execution_count": null,
   "id": "0da779de",
   "metadata": {},
   "outputs": [],
   "source": []
  }
 ],
 "metadata": {
  "kernelspec": {
   "display_name": "Python 3 (ipykernel)",
   "language": "python",
   "name": "python3"
  },
  "language_info": {
   "codemirror_mode": {
    "name": "ipython",
    "version": 3
   },
   "file_extension": ".py",
   "mimetype": "text/x-python",
   "name": "python",
   "nbconvert_exporter": "python",
   "pygments_lexer": "ipython3",
   "version": "3.10.9"
  }
 },
 "nbformat": 4,
 "nbformat_minor": 5
}
