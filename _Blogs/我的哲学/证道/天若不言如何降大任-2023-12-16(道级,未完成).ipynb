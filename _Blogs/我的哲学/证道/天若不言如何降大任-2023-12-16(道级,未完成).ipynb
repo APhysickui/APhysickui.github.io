{
 "cells": [
  {
   "cell_type": "markdown",
   "id": "7d930f9f",
   "metadata": {},
   "source": [
    ">天不言,使人发其意;弗为,使人行其中<br/>\n",
    ">苦其心智,劳其筋骨\n",
    "\n",
    "\n"
   ]
  },
  {
   "cell_type": "markdown",
   "id": "bb5fb774",
   "metadata": {},
   "source": [
    "天不言是基本假设,但如果天不主观对人做任何的干预,人如何得到考验,如何从考验中锻炼"
   ]
  },
  {
   "cell_type": "markdown",
   "id": "8fffbcb6",
   "metadata": {},
   "source": [
    "答案是人只有明确自身获得的进步才能持续获得进步"
   ]
  },
  {
   "cell_type": "markdown",
   "id": "e9fbaf48",
   "metadata": {},
   "source": [
    "始终牢记:越是失败,越是失去,越是考验人锻炼人成就人的时刻."
   ]
  },
  {
   "cell_type": "markdown",
   "id": "3fc25b27",
   "metadata": {},
   "source": []
  }
 ],
 "metadata": {
  "kernelspec": {
   "display_name": "Python 3 (ipykernel)",
   "language": "python",
   "name": "python3"
  },
  "language_info": {
   "codemirror_mode": {
    "name": "ipython",
    "version": 3
   },
   "file_extension": ".py",
   "mimetype": "text/x-python",
   "name": "python",
   "nbconvert_exporter": "python",
   "pygments_lexer": "ipython3",
   "version": "3.10.9"
  }
 },
 "nbformat": 4,
 "nbformat_minor": 5
}
