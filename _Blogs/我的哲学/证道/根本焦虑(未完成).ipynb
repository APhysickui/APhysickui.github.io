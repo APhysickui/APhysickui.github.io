{
 "cells": [
  {
   "cell_type": "markdown",
   "id": "98715b26",
   "metadata": {},
   "source": [
    "应该学学觅长生,在视界的左上方标一个剩余寿元,好让大家知道最大的困难是什么"
   ]
  },
  {
   "cell_type": "markdown",
   "id": "7adda69a",
   "metadata": {},
   "source": [
    "应该为节省寿元努力消除被剥削,而不是醉倒在生命的快乐中不思进取."
   ]
  },
  {
   "cell_type": "markdown",
   "id": "da5089e9",
   "metadata": {},
   "source": [
    "被剥削也是消除被剥削的方式."
   ]
  },
  {
   "cell_type": "markdown",
   "id": "3b2aa93e",
   "metadata": {},
   "source": [
    "消除剥削首先需要消除自己的被剥削"
   ]
  },
  {
   "cell_type": "markdown",
   "id": "0cf3ef20",
   "metadata": {},
   "source": [
    "永生即是永死.但是在没有选择权之前,我没有批判的资格"
   ]
  },
  {
   "cell_type": "markdown",
   "id": "c8b0c618",
   "metadata": {},
   "source": []
  }
 ],
 "metadata": {
  "kernelspec": {
   "display_name": "Python 3 (ipykernel)",
   "language": "python",
   "name": "python3"
  },
  "language_info": {
   "codemirror_mode": {
    "name": "ipython",
    "version": 3
   },
   "file_extension": ".py",
   "mimetype": "text/x-python",
   "name": "python",
   "nbconvert_exporter": "python",
   "pygments_lexer": "ipython3",
   "version": "3.10.9"
  }
 },
 "nbformat": 4,
 "nbformat_minor": 5
}
