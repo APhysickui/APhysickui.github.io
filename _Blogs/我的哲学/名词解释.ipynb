{
 "cells": [
  {
   "cell_type": "markdown",
   "id": "658f5309",
   "metadata": {},
   "source": [
    "|名词|解释|\n",
    "|-|-|\n",
    "|效用/utility|对意识选择分布的期望程度的有序度量,或者说\"目标\"的分布|\n",
    "|相关/correlation|呈现出相关性,但没有实质上的因果|\n",
    "|因果/causality|因果关系|"
   ]
  },
  {
   "cell_type": "markdown",
   "id": "0abff0fd",
   "metadata": {},
   "source": []
  }
 ],
 "metadata": {
  "kernelspec": {
   "display_name": "Python 3 (ipykernel)",
   "language": "python",
   "name": "python3"
  },
  "language_info": {
   "codemirror_mode": {
    "name": "ipython",
    "version": 3
   },
   "file_extension": ".py",
   "mimetype": "text/x-python",
   "name": "python",
   "nbconvert_exporter": "python",
   "pygments_lexer": "ipython3",
   "version": "3.10.9"
  }
 },
 "nbformat": 4,
 "nbformat_minor": 5
}
