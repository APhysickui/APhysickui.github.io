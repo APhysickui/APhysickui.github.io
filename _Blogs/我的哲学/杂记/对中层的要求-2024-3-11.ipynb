{
 "cells": [
  {
   "cell_type": "markdown",
   "metadata": {},
   "source": [
    "很久没有写笔记了,前段时间特别有干劲,导致没有时间做深度思考,这是进步还是倒退?"
   ]
  },
  {
   "cell_type": "markdown",
   "metadata": {},
   "source": [
    "感谢jj姐,我差点都忘了最严重的管理问题就在身边"
   ]
  },
  {
   "cell_type": "markdown",
   "metadata": {},
   "source": [
    "一个组织没有严格的体制制度,依靠熟人治理肯定是行不通的,之前似乎有论证过这一点?\n",
    "- 关系和领导力实质上呈反比\n",
    "- 贤能政治是也将在很长一段时间是版本答案,领导人的思考远多于乌合之众,唯一的缺点是可能走偏"
   ]
  },
  {
   "cell_type": "code",
   "execution_count": null,
   "metadata": {
    "vscode": {
     "languageId": "plaintext"
    }
   },
   "outputs": [],
   "source": [
    "\n",
    "> 什么样的人适合当负责人,适合当中场领导,适合把一件复杂的事情交给他?\n"
   ]
  },
  {
   "cell_type": "code",
   "execution_count": null,
   "metadata": {
    "vscode": {
     "languageId": "plaintext"
    }
   },
   "outputs": [],
   "source": []
  },
  {
   "cell_type": "markdown",
   "metadata": {},
   "source": []
  }
 ],
 "metadata": {
  "language_info": {
   "name": "python"
  }
 },
 "nbformat": 4,
 "nbformat_minor": 2
}
