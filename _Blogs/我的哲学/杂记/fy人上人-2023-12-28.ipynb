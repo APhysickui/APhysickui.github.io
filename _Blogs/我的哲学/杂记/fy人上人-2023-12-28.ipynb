{
 "cells": [
  {
   "cell_type": "markdown",
   "id": "dbfc9a3c",
   "metadata": {},
   "source": [
    "看到世茂集团佯卖93套上海房产的操作,CPU给我干烧了.凭空捏4.5亿现金流,舆论什么的都不在考虑范围.\n",
    "\n",
    "能不能给我gap一年把法双修一下\n",
    "\n",
    "不行,研究生就在清北读,寻机会学习法律,本科肯定来不及学.不出国了,出国浪费青春\n",
    "\n",
    "大一时说fy人上人是带着父亲的认知,现在说是我自己的真切感受."
   ]
  }
 ],
 "metadata": {
  "kernelspec": {
   "display_name": "Python 3 (ipykernel)",
   "language": "python",
   "name": "python3"
  },
  "language_info": {
   "codemirror_mode": {
    "name": "ipython",
    "version": 3
   },
   "file_extension": ".py",
   "mimetype": "text/x-python",
   "name": "python",
   "nbconvert_exporter": "python",
   "pygments_lexer": "ipython3",
   "version": "3.10.9"
  }
 },
 "nbformat": 4,
 "nbformat_minor": 5
}
