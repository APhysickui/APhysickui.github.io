{
 "cells": [
  {
   "cell_type": "markdown",
   "id": "11d12d57",
   "metadata": {},
   "source": [
    "不能."
   ]
  },
  {
   "cell_type": "markdown",
   "id": "bb549cab",
   "metadata": {},
   "source": [
    "团队凝聚力在于个体目标(效用)和群体目标(效用)的重合度,这与是否团建,团建怎样正交.团建只能用于培养双边/多边关系.\n",
    "\n",
    "当团队名义目标弱化,即团队实质目标异化为培养相互关系或者培养与领导人关系时,会出现团建破冰的相关性,但这不是因果,这在学生组织中常见.\n",
    "\n",
    "警惕团建成为年轻人的新形式主义.\n",
    "\n",
    "此外,团建成为学生组织工作报酬的形式"
   ]
  },
  {
   "cell_type": "markdown",
   "id": "c5f3b38e",
   "metadata": {},
   "source": [
    "如何领导一个松散学生组织使之成为有组织有纪律的团队,是一个难题.<br/>\n",
    "(对尚未弱冠的我来说),当然责任不完全甚至大部分不在我这里\n",
    "\n",
    "首先完全依赖个人魅力是不现实的,显然老天爷没有给我足够的时间修炼.\n",
    "\n",
    "其次锻炼口才,不行就提前打腹稿.\"社恐\"\"后台病\"要改.\n",
    "\n",
    "最后能说的和不能说的分界还要在试错中界定.\n",
    "\n",
    "以上三点对我个人,最后对于组织本身,应当招收契合团队目标的新同学\n",
    "- 比如团委同学就要有主动锻炼的态度,隐晦但不避讳综测加分问题,不谈个人效用问题,不谈自己不了解的后续发展问题\n",
    "- 江淮同学一是用爱发电的,二是和学长姐/学弟妹强烈交流意愿的,三是高度参与团学但是缺少\"试验场\"的,第三种人不可控不可预测,慎重考量.\n",
    "- 团学参与少但是主动锻炼态度的在第三种人后(容易出问题),被诱导出锻炼态度的最后(出问题我要担责任).\n",
    "- 只水群不干活情商够呛的不招"
   ]
  }
 ],
 "metadata": {
  "kernelspec": {
   "display_name": "Python 3 (ipykernel)",
   "language": "python",
   "name": "python3"
  },
  "language_info": {
   "codemirror_mode": {
    "name": "ipython",
    "version": 3
   },
   "file_extension": ".py",
   "mimetype": "text/x-python",
   "name": "python",
   "nbconvert_exporter": "python",
   "pygments_lexer": "ipython3",
   "version": "3.10.9"
  }
 },
 "nbformat": 4,
 "nbformat_minor": 5
}
