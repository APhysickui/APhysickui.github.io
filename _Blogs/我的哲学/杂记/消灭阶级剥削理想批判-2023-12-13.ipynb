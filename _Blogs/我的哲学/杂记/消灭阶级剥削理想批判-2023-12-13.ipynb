{
 "cells": [
  {
   "cell_type": "markdown",
   "id": "68bc1f4f",
   "metadata": {},
   "source": [
    "相比于阶级剥削,被剥削者更憎恶的是不均衡,\"不患寡而患不均\",(我拿被剥削的经历去践行到最后,发现)说到底还是老祖宗的道理.<br/>\n",
    "而我幼稚的地方在于,哪怕实现为人们驱除阶级剥削的理想,也并不能让人们感谢我,甚至反而会受到憎恨.<br/>\n",
    "这个时候就要开始读毛选了<br/>\n",
    "我相信在北大学习生活是对我的极残酷的剥削，因为我现在连读毛选的时间都没有"
   ]
  },
  {
   "cell_type": "markdown",
   "id": "8b35ef12",
   "metadata": {},
   "source": [
    "今天又忙得没洗澡"
   ]
  },
  {
   "cell_type": "code",
   "execution_count": null,
   "id": "872008f8",
   "metadata": {},
   "outputs": [],
   "source": []
  }
 ],
 "metadata": {
  "kernelspec": {
   "display_name": "Python 3 (ipykernel)",
   "language": "python",
   "name": "python3"
  },
  "language_info": {
   "codemirror_mode": {
    "name": "ipython",
    "version": 3
   },
   "file_extension": ".py",
   "mimetype": "text/x-python",
   "name": "python",
   "nbconvert_exporter": "python",
   "pygments_lexer": "ipython3",
   "version": "3.10.9"
  }
 },
 "nbformat": 4,
 "nbformat_minor": 5
}
