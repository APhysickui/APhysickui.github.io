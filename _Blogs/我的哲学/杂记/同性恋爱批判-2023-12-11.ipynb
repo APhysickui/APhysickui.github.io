{
 "cells": [
  {
   "cell_type": "markdown",
   "id": "5cc79e58",
   "metadata": {},
   "source": [
    "就民族就群体而言,同性恋是不应该被允许的,生育问题既是从历史中总结普遍规律预测到的危机,也是中国正在面对的问题.<br/>修行者可以在精神上道德上追寻柏拉图之爱的思想,但是必须同时认识到同性恋爱对生育率的危害,并至少做到自身消除这种危害.<br/>这和环境保护是一个道理,大多数人都在一定程度上做到了不破坏环境."
   ]
  },
  {
   "cell_type": "markdown",
   "id": "7aecaff7",
   "metadata": {},
   "source": [
    "人们对环境问题的看法和对同性问题的看法可以是同构的,只是明显年轻人知识有限没能意识到这一点,而国家也缺乏对这个的关注.<br/>目前从宣传看只从物质文明角度思考生育问题,*当然这也是?????后???成本提高,保守执政风气导致(这就不多说了)*,而缺乏对年轻人的思想研究,相关问题宣传,有效引导 *(或者说根本没有想好怎么让民众接受生育率低下的现实,只能考少数懂事的专家旁敲侧击做做报道)*.<br/>当然不是说物质文明角度看待这个问题做错了,相反这个可能才是大多数才是国家更关注的部分,只是我视角有限所识所见的同学们大多是不愁物质的,因此同性观念影响更大一些.\n",
    "\n"
   ]
  },
  {
   "cell_type": "markdown",
   "id": "ff9fc029",
   "metadata": {},
   "source": [
    "从个人角度看,我反对同性关系和我在接受甚至鼓励身边同性关系不矛盾.很简单的道理,因为同性观念是错误的不代表年轻人同性观念是年轻人的错,这个是国家的问题,简述见上段.不要总是把群体指标和个体行为准则,不要把Causality和Correlation混淆,\"作为\"\"无为\"针对源头而不是针对现象."
   ]
  },
  {
   "cell_type": "markdown",
   "id": "31955eb5",
   "metadata": {},
   "source": [
    "直觉上相对于柔性引导我更支持硬性构造一个对同性的歧视(小声)"
   ]
  },
  {
   "cell_type": "markdown",
   "id": "462c64cc",
   "metadata": {},
   "source": [
    "省流:\n",
    "- 现在处于一个同性观念与生育已经(至少在非常重要的部分群体内)挂钩,但是国家尚在做反应的\"弛豫时间\"\n",
    "- 我苛求自己异性,认可他人同性,但是反对同性观念,嗑我男同和骂我菜是一个效果."
   ]
  },
  {
   "cell_type": "markdown",
   "id": "93aeedc3",
   "metadata": {},
   "source": [
    "引用:\n",
    "- 做事要学马斯克\n",
    "- 一切社会问题是剥削与被剥削的阶级矛盾与整体外在受迫的复合,这一准则放在现代中国仍然适用\n",
    "- 修行者对自己的要求和对别人的区别比较大,而普通人对这个的区别相对小"
   ]
  }
 ],
 "metadata": {
  "kernelspec": {
   "display_name": "Python 3 (ipykernel)",
   "language": "python",
   "name": "python3"
  },
  "language_info": {
   "codemirror_mode": {
    "name": "ipython",
    "version": 3
   },
   "file_extension": ".py",
   "mimetype": "text/x-python",
   "name": "python",
   "nbconvert_exporter": "python",
   "pygments_lexer": "ipython3",
   "version": "3.10.9"
  }
 },
 "nbformat": 4,
 "nbformat_minor": 5
}
