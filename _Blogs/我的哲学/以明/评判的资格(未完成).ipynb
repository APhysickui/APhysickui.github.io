{
 "cells": [
  {
   "cell_type": "markdown",
   "id": "08ca7d43",
   "metadata": {},
   "source": [
    "首先假设选择是客观存在的"
   ]
  },
  {
   "cell_type": "markdown",
   "id": "a13a58ee",
   "metadata": {},
   "source": [
    "其次假设存在对不同选择的唯一理性度量,称为实际度量"
   ]
  },
  {
   "cell_type": "markdown",
   "id": "206f7204",
   "metadata": {},
   "source": [
    "再次假设意识与非意识选择度量的极值(最小作用量原理)(规定意识选择蕴含非理性)"
   ]
  },
  {
   "cell_type": "markdown",
   "id": "5282f536",
   "metadata": {},
   "source": [
    "对意识来说,首先具有选择的权利,然后对选择进行度量,这个度量与实际度量存在偏差.\n",
    "\n",
    "理性意识选择的基础是意识能够对选择负责\n",
    "\n",
    "意识选择理性度量的基础是意识具有选择权"
   ]
  },
  {
   "cell_type": "markdown",
   "id": "12a3e9f0",
   "metadata": {},
   "source": []
  },
  {
   "cell_type": "markdown",
   "id": "1efa03b2",
   "metadata": {},
   "source": []
  }
 ],
 "metadata": {
  "kernelspec": {
   "display_name": "Python 3 (ipykernel)",
   "language": "python",
   "name": "python3"
  },
  "language_info": {
   "codemirror_mode": {
    "name": "ipython",
    "version": 3
   },
   "file_extension": ".py",
   "mimetype": "text/x-python",
   "name": "python",
   "nbconvert_exporter": "python",
   "pygments_lexer": "ipython3",
   "version": "3.10.9"
  }
 },
 "nbformat": 4,
 "nbformat_minor": 5
}
