{
 "cells": [
  {
   "cell_type": "markdown",
   "id": "30038581",
   "metadata": {},
   "source": [
    "凡音者，生于人心者也。乐者，通伦理者也。是故知声而不知音者，禽兽是也；知音而不知乐者，众庶是也。唯君子为能知乐。是故审声以知音，审音以知乐，审乐以知政，而治道备矣。是故不知声者不可与言音，不知音者不可与言乐。知乐则几于礼矣。礼乐皆得，谓之有德。德者得也。是故乐之隆，非极音也。食飨之礼，非致味也。"
   ]
  },
  {
   "cell_type": "markdown",
   "id": "f6a60126",
   "metadata": {},
   "source": [
    "诗歌传世的标准是通伦理,只传达人心之起伏,不足以传世"
   ]
  }
 ],
 "metadata": {
  "kernelspec": {
   "display_name": "Python 3 (ipykernel)",
   "language": "python",
   "name": "python3"
  },
  "language_info": {
   "codemirror_mode": {
    "name": "ipython",
    "version": 3
   },
   "file_extension": ".py",
   "mimetype": "text/x-python",
   "name": "python",
   "nbconvert_exporter": "python",
   "pygments_lexer": "ipython3",
   "version": "3.10.9"
  }
 },
 "nbformat": 4,
 "nbformat_minor": 5
}
